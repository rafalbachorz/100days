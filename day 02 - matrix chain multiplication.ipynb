{
 "cells": [
  {
   "cell_type": "markdown",
   "metadata": {},
   "source": [
    "## algorithm"
   ]
  },
  {
   "cell_type": "code",
   "execution_count": null,
   "metadata": {},
   "outputs": [],
   "source": [
    "'''\n",
    "Memoization use cases:\n",
    "west-east China pipeline, supercompressibility calculations - call parameter 'grinding'\n",
    "PKE S.A. unit commitment target function for profit optimization - /* materialize */ hint within sub-query\n",
    "MAD daily profile decomposition over explicit materialized views\n",
    "SWS calculation optimization using deterministic functions using version 12 cache access\n",
    "'''"
   ]
  },
  {
   "cell_type": "code",
   "execution_count": null,
   "metadata": {},
   "outputs": [],
   "source": [
    "# https://pencilprogrammer.com/wp-content/uploads/2019/01/matrix-chain-multiplication-dynamic-programming-3-min.png\n",
    "    "
   ]
  },
  {
   "cell_type": "code",
   "execution_count": null,
   "metadata": {},
   "outputs": [],
   "source": [
    "arr = [10, 5 , 2, 18, 7, 12, 3, 12, 4, 20] #AK: simplified approach, only dimensions matter\n",
    "multArr = ([('A', 10, 5), ('B', 5, 2), ('C', 2, 18), ('D', 18, 7),('E',7,12),('F',12,3),('E3',3,12), ('F', 12, 4),('G',4,20)])\n"
   ]
  },
  {
   "cell_type": "code",
   "execution_count": null,
   "metadata": {},
   "outputs": [],
   "source": [
    "# AK: If B is a square matrix, then cost of (AB)C=A(BC), otherwise, multiplication order matters\n",
    "# sortNsplit(chain)\n",
    "# heuristic: select smallest matrix multiplication dimension\n",
    "# decision: either split here and solve two reduced problems of 1 smaller total size, or multiply and solve n-1 problem  \n"
   ]
  },
  {
   "cell_type": "code",
   "execution_count": null,
   "metadata": {},
   "outputs": [],
   "source": [
    "# AK: questionable way to approximate recursive solutions - elegant, but inaccurate\n",
    "# This code is contributed one 'sahishelangia'\n",
    "# matrix chain multiplication problem # Matrix Mi has dimension p[i-1] x p[i] for i = 1..n  \n",
    "def MatrixChainOrder2(p, n): \n",
    "    # For simplicity of the program, one extra row and one extra column are allocated in dp[][]. 0\n",
    "    # 0th row and 0th column of dp[][] are not used  \n",
    "    dp = [[0 for i in range(n)] \n",
    "             for i in range(n)]  \n",
    "    # dp[i, j] = Minimum number of scalar multiplications needed to compute  \n",
    "    # the matrix M[i]M[i+1]...M[j] = M[i..j] where dimension of M[i] is p[i-1] x p[i]  \n",
    "    # cost is zero when multiplying one matrix.  \n",
    "    for i in range(1, n): \n",
    "        dp[i][i] = 0\n",
    "  \n",
    "    # Simply following above recursive formula.  \n",
    "    for L in range(1, n - 1): \n",
    "        for i in range(n - L): \n",
    "            dp[i][i + L] = min(dp[i + 1][i + L] + \n",
    "                                p[i - 1] * p[i + L] * p[i],  \n",
    "                               dp[i][i + L - 1] + \n",
    "                                p[i - 1] * p[i + L] * p[i + L - 1] )  \n",
    "            \n",
    "    print(i, i+L, 'minCost:', dp[i][i + L] )        \n",
    "    return dp #dp[1][n - 1] \n",
    "\n",
    "MatrixChainOrder2(arr, len(arr))"
   ]
  },
  {
   "cell_type": "code",
   "execution_count": null,
   "metadata": {},
   "outputs": [],
   "source": [
    "# AK: fully recursive, do't do that at work :)\n",
    "# Modified a bit code contributed by Aryan Garg \n",
    "# https://www.geeksforgeeks.org/matrix-chain-multiplication-dp-8/\n",
    "# Matrix A[i] has dimension p[i-1] x p[i]  # for i = 1..n \n",
    "import sys\n",
    "def MatrixChainOrder(p, i, j): \n",
    "    if i == j: return 0\n",
    "    minCount = sys.maxsize \n",
    "    # place parenthesis at different places between first and last matrix,  \n",
    "    # recursively calculate count of multiplications for each parenthesis placement and return the minimum count \n",
    "    for k in range(i, j): \n",
    "        count = (MatrixChainOrder(p, i, k)  \n",
    "               + MatrixChainOrder(p, k + 1, j) \n",
    "               + p[i-1] * p[k] * p[j])  \n",
    "        if count < minCount: minCount = count; \n",
    "    return minCount;  # Return minimum count \n",
    "\n",
    "print(\"Minimum number of multiplications is \", \n",
    "                MatrixChainOrder(arr, 1, len(arr)-1)); \n"
   ]
  },
  {
   "cell_type": "code",
   "execution_count": null,
   "metadata": {},
   "outputs": [],
   "source": [
    "# Matrix_chain_multiplication\n",
    "# AK: classic approach, one provided in matrix-chain.pdf\n",
    "# AK: This may seem more like 'flood' then 'lava' solution, but actually uses built-in cache aux to remove recursion\n",
    "# 1. all(!) possible moves are evaluated, in form of complete and semi-complete parenthesisation\n",
    "# 2. least cost for each move is found and stored in aux table\n",
    "# 3. it is explicite memoization techniqe and the recursive code was lost\n",
    "def mult(chain):\n",
    "    n = len(chain)\n",
    "    o = 0;\n",
    "    # single matrix chain has zero cost\n",
    "    aux = {(i, i): (0,) + chain[i] for i in range(n)} # AK: cache results here, to reduce operations approx n/2 times\n",
    "    # i: length of subchain\n",
    "    for i in range(1, n): # AK cost n\n",
    "        # j: starting index of subchain\n",
    "        for j in range(0, n - i): # AK: cost n-i+1\n",
    "            best = float('inf')\n",
    "\n",
    "            # k: splitting point of subchain\n",
    "            for k in range(j, j + i): # AK: cost i+1\n",
    "                # multiply subchains at splitting point\n",
    "                lcost, lname, lrow, lcol = aux[j, k]\n",
    "                rcost, rname, rrow, rcol = aux[k + 1, j + i]\n",
    "                cost = lcost + rcost + lrow * lcol * rcol\n",
    "                var = '(%s%s)' % (lname, rname)\n",
    "                o = o+1\n",
    "                \n",
    "                # pick the best one\n",
    "                if cost < best:\n",
    "                    best = cost\n",
    "                    aux[j, j + i] = cost, var, lrow, rcol # AK: memoization part\n",
    "                #print(i,j,cost, aux[j,j+1])                    \n",
    "    print(((n+1)/2)*((n+1)/2)*((n+1)/2),o)\n",
    "    return dict(zip(['cost', 'order', 'rows', 'cols'], aux[0, n -1 ]))\n",
    "mult(multArr)"
   ]
  },
  {
   "cell_type": "markdown",
   "metadata": {},
   "source": [
    "## run"
   ]
  },
  {
   "cell_type": "code",
   "execution_count": null,
   "metadata": {},
   "outputs": [],
   "source": [
    "# Creates a sorted dictionary (sorted by key) \n",
    "#from collections import OrderedDict \n",
    "#addAK = {'0A':10,'AB':5,'BC':2,'CD':18,'DE':7,'EE2':12,'E2E3':3,'E3F':12,'FG':4,'G0':20}  \n",
    "#addAK = {'0A':10,'AB':5,'BC':1,'CD':4,'DE':11,'EF':12,'FG':2,'G0':20} \n",
    "#dict1 = OrderedDict(sorted(dict0.items())) \n",
    "#print sorted_key(dict1)\n",
    "#print(dict1) \n",
    "#valOrder = sorted(dict0.items(), key = lambda kv:(-kv[1], kv[0]))\n",
    "#valOrder"
   ]
  },
  {
   "cell_type": "code",
   "execution_count": null,
   "metadata": {},
   "outputs": [],
   "source": [
    "mult([('A', 10, 5), ('B', 5, 2), ('C', 2, 18), ('D', 18, 7),('E',7,12),('E2',12,3),('E3',3,12), ('F', 12, 4),('G',4,20)])"
   ]
  },
  {
   "cell_type": "code",
   "execution_count": null,
   "metadata": {},
   "outputs": [],
   "source": [
    "valOrder = sorted(dict0.items(), key = lambda kv:(-kv[1], kv[0]))\n",
    "valOrder"
   ]
  },
  {
   "cell_type": "code",
   "execution_count": null,
   "metadata": {},
   "outputs": [],
   "source": [
    "mult([('0',10,10),('A', 10, 6), ('B', 6, 1), ('C', 1, 9), ('D', 9, 10),('E',10,10), ('F', 10, 1),('G',1,20),('H',20,10),('I',10,100),('J',100,20),('K',20,10),('1',10,10)])"
   ]
  },
  {
   "cell_type": "code",
   "execution_count": null,
   "metadata": {},
   "outputs": [],
   "source": [
    "mult([('0',10,10),('A', 10, 5), ('B', 5, 1), ('C', 1, 5), ('D', 5, 10),('E',10,10), ('F', 10, 1),('G',1,20),('H',20,10),('1',10,10)])"
   ]
  },
  {
   "cell_type": "code",
   "execution_count": null,
   "metadata": {},
   "outputs": [],
   "source": [
    "mult([('0',10,10),('A', 10, 5), ('B', 5, 1), ('C', 1, 9), ('D', 9, 10),('E',10,10), ('F', 10, 1),('G',1,20),('H',20,10),('I',10,100),('J',100,20),('K',20,10),('1',10,10)])"
   ]
  },
  {
   "cell_type": "code",
   "execution_count": null,
   "metadata": {},
   "outputs": [],
   "source": [
    "# https://rosettacode.org/wiki/Matrix_chain_multiplication#Python"
   ]
  },
  {
   "cell_type": "code",
   "execution_count": null,
   "metadata": {},
   "outputs": [],
   "source": [
    "def parens(n):\n",
    "    def aux(n, k):\n",
    "        if n == 1:\n",
    "            yield k\n",
    "        elif n == 2:\n",
    "            yield [k, k + 1]\n",
    "        else:\n",
    "            a = []\n",
    "            for i in range(1, n):\n",
    "                for u in aux(i, k):\n",
    "                    for v in aux(n - i, k + i):\n",
    "                        yield [u, v]\n",
    "    yield from aux(n, 0)\n",
    "for u in parens(4):\n",
    "    print(u)"
   ]
  },
  {
   "cell_type": "code",
   "execution_count": null,
   "metadata": {},
   "outputs": [],
   "source": [
    "# And here is the optimization step: \n",
    "def optim1(a):\n",
    "    def cost(k):\n",
    "        if type(k) is int:\n",
    "            return 0, a[k], a[k + 1]\n",
    "        else:\n",
    "            s1, p1, q1 = cost(k[0])\n",
    "            s2, p2, q2 = cost(k[1])\n",
    "            assert q1 == p2\n",
    "            return s1 + s2 + p1 * q1 * q2, p1, q2\n",
    "    cmin = None\n",
    "    n = len(a) - 1\n",
    "    for u in parens(n):\n",
    "        c, p, q = cost(u)\n",
    "        if cmin is None or c < cmin:\n",
    "            cmin = c\n",
    "            umin = u\n",
    "    return cmin, umin"
   ]
  },
  {
   "cell_type": "code",
   "execution_count": null,
   "metadata": {},
   "outputs": [],
   "source": [
    "# The previous function optim1 already used recursion, but only to compute the cost of a given parens configuration, whereas another function (a generator actually) provides these configurations. \n",
    "# Here we will do both recursively in the same function, avoiding the computation of configurations altogether. \n",
    "def optim2(a):\n",
    "    def aux(n, k):\n",
    "        if n == 1:\n",
    "            p, q = a[k:k + 2]\n",
    "            return 0, p, q, k\n",
    "        elif n == 2:\n",
    "            p, q, r = a[k:k + 3]\n",
    "            return p * q * r, p, r, [k, k + 1]\n",
    "        else:\n",
    "            m = None\n",
    "            p = a[k]\n",
    "            q = a[k + n]\n",
    "            for i in range(1, n):\n",
    "                s1, p1, q1, u1 = aux(i, k)\n",
    "                s2, p2, q2, u2 = aux(n - i, k + i)\n",
    "                assert q1 == p2\n",
    "                s = s1 + s2 + p1 * q1 * q2\n",
    "                if m is None or s < m:\n",
    "                    m = s\n",
    "                    u = [u1, u2]\n",
    "            return m, p, q, u\n",
    "    s, p, q, u = aux(len(a) - 1, 0)\n",
    "    return s, u"
   ]
  },
  {
   "cell_type": "code",
   "execution_count": null,
   "metadata": {},
   "outputs": [],
   "source": [
    "def memoize(f):\n",
    "    h = {}\n",
    "    def g(*u):\n",
    "        if u in h:\n",
    "            return h[u]\n",
    "        else:\n",
    "            r = f(*u)\n",
    "            h[u] = r\n",
    "            return r\n",
    "    return g\n",
    "\n",
    "def optim3(a):\n",
    "    @memoize\n",
    "    def aux(n, k):\n",
    "        if n == 1:\n",
    "            p, q = a[k:k + 2]\n",
    "            return 0, p, q, k\n",
    "        elif n == 2:\n",
    "            p, q, r = a[k:k + 3]\n",
    "            return p * q * r, p, r, [k, k + 1]\n",
    "        else:\n",
    "            m = None\n",
    "            p = a[k]\n",
    "            q = a[k + n]\n",
    "            for i in range(1, n):\n",
    "                s1, p1, q1, u1 = aux(i, k)\n",
    "                s2, p2, q2, u2 = aux(n - i, k + i)\n",
    "                assert q1 == p2\n",
    "                s = s1 + s2 + p1 * q1 * q2\n",
    "                if m is None or s < m:\n",
    "                    m = s\n",
    "                    u = [u1, u2]\n",
    "            return m, p, q, u\n",
    "    s, p, q, u = aux(len(a) - 1, 0)\n",
    "    return s, u"
   ]
  },
  {
   "cell_type": "code",
   "execution_count": null,
   "metadata": {},
   "outputs": [],
   "source": [
    "'''\n",
    "In the previous solution, memoization is done blindly with a dictionary. \n",
    "However, we need to compute the optimal products for all sublists. \n",
    "A sublist is described by its first index and length (resp. i and j+1 in the following function), \n",
    "hence the set of all sublists can be described by the indices of elements in a triangular array u. \n",
    "We first fill the \"solution\" (there is no product) for sublists of length 1 (u[0]), \n",
    "then for each successive length we optimize using what when know about smaller sublists. \n",
    "Instead of keeping track of the optimal solutions, the single needed one is computed in the end. \n",
    "'''"
   ]
  },
  {
   "cell_type": "code",
   "execution_count": null,
   "metadata": {},
   "outputs": [],
   "source": [
    "def optim4(a): # trangular matrix\n",
    "    global u\n",
    "    n = len(a) - 1\n",
    "    u = [None] * n\n",
    "    u[0] = [[None, 0]] * n\n",
    "    for j in range(1, n):\n",
    "        v = [None] * (n - j)\n",
    "        for i in range(n - j):\n",
    "            m = None\n",
    "            for k in range(j):\n",
    "                s1, c1 = u[k][i]\n",
    "                s2, c2 = u[j - k - 1][i + k + 1]\n",
    "                c = c1 + c2 + a[i] * a[i + k + 1] * a[i + j + 1]\n",
    "                if m is None or c < m:\n",
    "                    s = k\n",
    "                    m = c\n",
    "            v[i] = [s, m]\n",
    "        u[j] = v\n",
    "    def aux(i, j):\n",
    "        s, c = u[j][i]\n",
    "        if s is None:\n",
    "            return i\n",
    "        else:\n",
    "            return [aux(i, s), aux(i + s + 1, j - s - 1)]\n",
    "    return u[n - 1][0][1], aux(0, n - 1)"
   ]
  },
  {
   "cell_type": "code",
   "execution_count": null,
   "metadata": {},
   "outputs": [],
   "source": [
    "import time\n",
    " \n",
    "u = [arr, [1, 5, 25, 30, 100, 70, 2, 1, 100, 250, 1, 1000, 2],\n",
    "     [1000, 1, 500, 12, 1, 700, 2500, 3, 2, 5, 14, 10]]\n",
    "\n",
    "for a in u:\n",
    "    print(a)\n",
    "    print()\n",
    "    print(\"function     time       cost   parens  \")\n",
    "    print(\"-\" * 90)\n",
    "    for f in [optim1, optim2, optim3,optim4]:\n",
    "        t1 = time.clock()\n",
    "        s, u = f(a)\n",
    "        t2 = time.clock()\n",
    "        print(\"%s %10.3f %10d   %s\" % (f.__name__, 1000 * (t2 - t1), s, u))\n",
    "    print()\n"
   ]
  },
  {
   "cell_type": "code",
   "execution_count": null,
   "metadata": {},
   "outputs": [],
   "source": []
  }
 ],
 "metadata": {
  "kernelspec": {
   "display_name": "Python 3",
   "language": "python",
   "name": "python3"
  },
  "language_info": {
   "codemirror_mode": {
    "name": "ipython",
    "version": 3
   },
   "file_extension": ".py",
   "mimetype": "text/x-python",
   "name": "python",
   "nbconvert_exporter": "python",
   "pygments_lexer": "ipython3",
   "version": "3.7.0"
  }
 },
 "nbformat": 4,
 "nbformat_minor": 2
}
